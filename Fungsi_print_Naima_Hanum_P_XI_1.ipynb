{
  "nbformat": 4,
  "nbformat_minor": 0,
  "metadata": {
    "colab": {
      "provenance": [],
      "authorship_tag": "ABX9TyNMfePZ/CcKuLSftzGwYuIt",
      "include_colab_link": true
    },
    "kernelspec": {
      "name": "python3",
      "display_name": "Python 3"
    },
    "language_info": {
      "name": "python"
    }
  },
  "cells": [
    {
      "cell_type": "markdown",
      "metadata": {
        "id": "view-in-github",
        "colab_type": "text"
      },
      "source": [
        "<a href=\"https://colab.research.google.com/github/naimahanum/KKASmt1/blob/main/Fungsi_print_Naima_Hanum_P_XI_1.ipynb\" target=\"_parent\"><img src=\"https://colab.research.google.com/assets/colab-badge.svg\" alt=\"Open In Colab\"/></a>"
      ]
    },
    {
      "cell_type": "markdown",
      "source": [
        "# Menampilkan Teks Bebas"
      ],
      "metadata": {
        "id": "7ACQD5E1GXKr"
      }
    },
    {
      "cell_type": "code",
      "execution_count": null,
      "metadata": {
        "colab": {
          "base_uri": "https://localhost:8080/"
        },
        "id": "JG2FAj5GFYki",
        "outputId": "3eed0a55-8b98-46cc-8a8f-8f76798c811f"
      },
      "outputs": [
        {
          "output_type": "stream",
          "name": "stdout",
          "text": [
            "Halo dunia\n"
          ]
        }
      ],
      "source": [
        "print(\"Halo dunia\")"
      ]
    },
    {
      "cell_type": "code",
      "source": [
        "print(\"selamat datang di Phyton\")"
      ],
      "metadata": {
        "colab": {
          "base_uri": "https://localhost:8080/"
        },
        "id": "CkHavGkzF2lR",
        "outputId": "358e38a8-c5e1-47c4-a9f1-6ab596f90984"
      },
      "execution_count": null,
      "outputs": [
        {
          "output_type": "stream",
          "name": "stdout",
          "text": [
            "selamat datang di Phyton\n"
          ]
        }
      ]
    },
    {
      "cell_type": "code",
      "source": [
        "print ('Naima Hanum Pratiwi')"
      ],
      "metadata": {
        "colab": {
          "base_uri": "https://localhost:8080/"
        },
        "id": "NVv5RQnhGA0O",
        "outputId": "057259cb-0785-404a-9bb1-bd8bf569674c"
      },
      "execution_count": null,
      "outputs": [
        {
          "output_type": "stream",
          "name": "stdout",
          "text": [
            "Naima Hanum Pratiwi\n"
          ]
        }
      ]
    },
    {
      "cell_type": "markdown",
      "source": [
        "# Variabel"
      ],
      "metadata": {
        "id": "JzVqzdeGHfvy"
      }
    },
    {
      "cell_type": "code",
      "source": [
        "BB = 42\n",
        "print(BB)"
      ],
      "metadata": {
        "colab": {
          "base_uri": "https://localhost:8080/"
        },
        "id": "W0tPPOfsHrG2",
        "outputId": "cc437638-2803-4bed-c27c-fe3bafcf2535"
      },
      "execution_count": null,
      "outputs": [
        {
          "output_type": "stream",
          "name": "stdout",
          "text": [
            "42\n"
          ]
        }
      ]
    },
    {
      "cell_type": "code",
      "source": [
        "umur = 15\n",
        "print(umur)"
      ],
      "metadata": {
        "colab": {
          "base_uri": "https://localhost:8080/"
        },
        "id": "jX8Dg60_ItlK",
        "outputId": "8cf94f9b-4e2f-42ca-a6b8-e8c05d2a4e41"
      },
      "execution_count": null,
      "outputs": [
        {
          "output_type": "stream",
          "name": "stdout",
          "text": [
            "15\n"
          ]
        }
      ]
    },
    {
      "cell_type": "code",
      "source": [
        "nama = \"Naima Hanum Pratiwi\""
      ],
      "metadata": {
        "id": "LpYg578HKDZB"
      },
      "execution_count": null,
      "outputs": []
    },
    {
      "cell_type": "markdown",
      "source": [
        "# Menampilkan teks bebas dan variabel"
      ],
      "metadata": {
        "id": "vw28qSkHI4Kl"
      }
    },
    {
      "cell_type": "code",
      "source": [
        "print(f\"umur saya 15 tahun\")"
      ],
      "metadata": {
        "colab": {
          "base_uri": "https://localhost:8080/"
        },
        "id": "bkCPv4NnJPYE",
        "outputId": "aab304f2-f63d-4202-de78-1a2b4fc24bc9"
      },
      "execution_count": null,
      "outputs": [
        {
          "output_type": "stream",
          "name": "stdout",
          "text": [
            "umur saya 15 tahun\n"
          ]
        }
      ]
    },
    {
      "cell_type": "code",
      "source": [
        "print(\"Halo \" + nama)"
      ],
      "metadata": {
        "colab": {
          "base_uri": "https://localhost:8080/"
        },
        "id": "NRYQlvqqJk8e",
        "outputId": "912dee67-b65d-4b42-db3a-55e4855b672b"
      },
      "execution_count": null,
      "outputs": [
        {
          "output_type": "stream",
          "name": "stdout",
          "text": [
            "Halo Naima Hanum Pratiwi\n"
          ]
        }
      ]
    },
    {
      "cell_type": "code",
      "source": [
        "harga_telur = 2600\n",
        "\n",
        "print(\"Harga telur per 1 kg adalah\", harga_telur)"
      ],
      "metadata": {
        "colab": {
          "base_uri": "https://localhost:8080/"
        },
        "id": "vkCMOlM1EE_G",
        "outputId": "998b9019-c494-47bd-bb31-3c03c8c45b2e"
      },
      "execution_count": null,
      "outputs": [
        {
          "output_type": "stream",
          "name": "stdout",
          "text": [
            "Harga telur per 1 kg adalah 2600\n"
          ]
        }
      ]
    },
    {
      "cell_type": "code",
      "source": [
        "harga_telur = 2600\n",
        "\n",
        "print(\"Harga telur per 1 kg adalah \" + str(harga_telur))"
      ],
      "metadata": {
        "colab": {
          "base_uri": "https://localhost:8080/"
        },
        "id": "LHGyYU9xE3fq",
        "outputId": "74783d83-181a-4442-a8a7-5d7c9fba3857"
      },
      "execution_count": null,
      "outputs": [
        {
          "output_type": "stream",
          "name": "stdout",
          "text": [
            "Harga telur per 1 kg adalah 2600\n"
          ]
        }
      ]
    },
    {
      "cell_type": "code",
      "source": [
        "nama_pembeli = \"Hanum\"\n",
        "\n",
        "print(\"Nama pembeli telur adalah \" + nama_pembeli)"
      ],
      "metadata": {
        "colab": {
          "base_uri": "https://localhost:8080/"
        },
        "id": "kV1GHrxIFUFB",
        "outputId": "286a3d9b-66a6-4de4-a25b-25705f225340"
      },
      "execution_count": null,
      "outputs": [
        {
          "output_type": "stream",
          "name": "stdout",
          "text": [
            "Nama pembeli telur adalah Hanum\n"
          ]
        }
      ]
    },
    {
      "cell_type": "markdown",
      "source": [
        "Latihan soal\n",
        "1. tampilkan teks bebas : Hari ini saya bahagia belajar bahasa python\n",
        "2. tampilkan nilai variabel : mata_pelajaran_favorit = kode dan kecerdasan buatan\n",
        "3. tampilkan nilai variabel : nilai_kka = 100\n",
        "4. tampilkan teks bebas dan nilai variabel dengan tiga metode (f string,\"+\",\",\"):\" Nilai KKA saya adalah {nilai_kka} loh!\""
      ],
      "metadata": {
        "id": "UZyxM6YEOQzv"
      }
    },
    {
      "cell_type": "code",
      "source": [
        "print (\"hari ini saya bahagia belajar bahasa phyton\")"
      ],
      "metadata": {
        "colab": {
          "base_uri": "https://localhost:8080/"
        },
        "id": "jxvn6KIxaIPV",
        "outputId": "94a2ec82-9a09-4b33-f359-85fec9733c2e"
      },
      "execution_count": null,
      "outputs": [
        {
          "output_type": "stream",
          "name": "stdout",
          "text": [
            "hari ini saya bahagia belajar bahasa phyton\n"
          ]
        }
      ]
    },
    {
      "cell_type": "code",
      "source": [
        "mata_pelajaran_favorit = \"Kode dan Kecerdasan Buatan\"\n",
        "print(mata_pelajaran_favorit)"
      ],
      "metadata": {
        "colab": {
          "base_uri": "https://localhost:8080/"
        },
        "id": "fWS1DithcSIW",
        "outputId": "de68a214-0da6-44bc-efa2-ff837ad26c1e"
      },
      "execution_count": null,
      "outputs": [
        {
          "output_type": "stream",
          "name": "stdout",
          "text": [
            "Kode dan Kecerdasan Buatan\n"
          ]
        }
      ]
    },
    {
      "cell_type": "code",
      "source": [
        "nilai_kka = 100\n",
        "print(nilai_kka)"
      ],
      "metadata": {
        "id": "ahmHQCFAdB2P",
        "colab": {
          "base_uri": "https://localhost:8080/"
        },
        "outputId": "b341cfac-06b1-48df-d839-387102195784"
      },
      "execution_count": null,
      "outputs": [
        {
          "output_type": "stream",
          "name": "stdout",
          "text": [
            "100\n"
          ]
        }
      ]
    },
    {
      "cell_type": "code",
      "source": [
        "print(f\"Nilai KKA saya adalah {nilai_kka} loh!\")"
      ],
      "metadata": {
        "colab": {
          "base_uri": "https://localhost:8080/"
        },
        "id": "LQfu9YuHehhl",
        "outputId": "d3a8bf3e-d6ac-4697-a0c5-36bfa3ab173a"
      },
      "execution_count": null,
      "outputs": [
        {
          "output_type": "stream",
          "name": "stdout",
          "text": [
            "Nilai KKA saya adalah 100 loh!\n"
          ]
        }
      ]
    },
    {
      "cell_type": "code",
      "source": [
        "print(\"Nilai KKA saya adalah \" + str(nilai_kka) + \" loh!\")"
      ],
      "metadata": {
        "colab": {
          "base_uri": "https://localhost:8080/"
        },
        "id": "nqmGXbU3fIS-",
        "outputId": "84fa2770-a09b-43ab-af31-e0decde661c4"
      },
      "execution_count": null,
      "outputs": [
        {
          "output_type": "stream",
          "name": "stdout",
          "text": [
            "Nilai KKA saya adalah 100 loh!\n"
          ]
        }
      ]
    },
    {
      "cell_type": "code",
      "source": [
        "print (\"Nilai KKA saya adalah\" , nilai_kka, \"loh\")"
      ],
      "metadata": {
        "colab": {
          "base_uri": "https://localhost:8080/"
        },
        "id": "e1NqzL-LgvDs",
        "outputId": "286bd9fc-4f49-49a5-d8ba-09f156f6305e"
      },
      "execution_count": null,
      "outputs": [
        {
          "output_type": "stream",
          "name": "stdout",
          "text": [
            "Nilai KKA saya adalah 100 loh\n"
          ]
        }
      ]
    },
    {
      "cell_type": "markdown",
      "source": [
        "#Escape Character"
      ],
      "metadata": {
        "id": "j0lkvDH8cWff"
      }
    },
    {
      "cell_type": "code",
      "source": [
        "print(\"Nama: Naima Hanum Pratiwi\")\n",
        "print(\"Kelas: XI. 1\")\n",
        "print(\"Nomor absen: 27\")"
      ],
      "metadata": {
        "colab": {
          "base_uri": "https://localhost:8080/"
        },
        "id": "FIDuQ7mrJrFl",
        "outputId": "e9d20738-b5e4-4b61-f09f-87cbf50228c6"
      },
      "execution_count": null,
      "outputs": [
        {
          "output_type": "stream",
          "name": "stdout",
          "text": [
            "Nama: Naima Hanum Pratiwi\n",
            "Kelas: XI. 1\n",
            "Nomor absen: 27\n"
          ]
        }
      ]
    },
    {
      "cell_type": "code",
      "source": [
        "print (\"Nama\\t\\t: Naima Hanum Pratiwi\\nKelas\\t\\t: XI.1\\nNomor absen\\t: 27\")"
      ],
      "metadata": {
        "colab": {
          "base_uri": "https://localhost:8080/"
        },
        "id": "2NP5ZyTMKZpY",
        "outputId": "850e7ed4-d6a6-4620-94a8-b7ddb90972f8"
      },
      "execution_count": null,
      "outputs": [
        {
          "output_type": "stream",
          "name": "stdout",
          "text": [
            "Nama\t\t: Naima Hanum Pratiwi\n",
            "Kelas\t\t: XI.1\n",
            "Nomor absen\t: 27\n"
          ]
        }
      ]
    },
    {
      "cell_type": "code",
      "source": [
        "print(\"\"\"Nama: Naima Hanum Pratiwi\n",
        "Kelas: XI.1\n",
        "Nomor absen: 27\"\"\")"
      ],
      "metadata": {
        "colab": {
          "base_uri": "https://localhost:8080/"
        },
        "id": "M9azM01yK-tJ",
        "outputId": "cc2b6146-ec64-48e8-a351-e445ae12a871"
      },
      "execution_count": null,
      "outputs": [
        {
          "output_type": "stream",
          "name": "stdout",
          "text": [
            "Nama: Naima Hanum Pratiwi\n",
            "Kelas: XI.1\n",
            "Nomor absen: 27\n"
          ]
        }
      ]
    },
    {
      "cell_type": "code",
      "source": [
        "print('Ja\\'far Shodiq')"
      ],
      "metadata": {
        "colab": {
          "base_uri": "https://localhost:8080/"
        },
        "id": "GZGwZef3A3sk",
        "outputId": "387510e7-2524-465b-80ba-d292ea061dde"
      },
      "execution_count": null,
      "outputs": [
        {
          "output_type": "stream",
          "name": "stdout",
          "text": [
            "Ja'far Shodiq\n"
          ]
        }
      ]
    },
    {
      "cell_type": "code",
      "source": [
        "print(\"Ja'far Shodiq\")"
      ],
      "metadata": {
        "colab": {
          "base_uri": "https://localhost:8080/"
        },
        "id": "eT7RJvVUCVLB",
        "outputId": "0d4a1c94-ef30-4943-efee-53a4ebe85641"
      },
      "execution_count": null,
      "outputs": [
        {
          "output_type": "stream",
          "name": "stdout",
          "text": [
            "Ja'far Shodiq\n"
          ]
        }
      ]
    },
    {
      "cell_type": "code",
      "source": [
        "print(\"Bu Shinta berkata, \\\"Semua harus menyimak pelajaran. \\\"\")"
      ],
      "metadata": {
        "colab": {
          "base_uri": "https://localhost:8080/"
        },
        "id": "hf2KfMTzCh-P",
        "outputId": "b7b273db-89df-403a-d185-29a3658abcad"
      },
      "execution_count": null,
      "outputs": [
        {
          "output_type": "stream",
          "name": "stdout",
          "text": [
            "Bu Shinta berkata, \"Semua harus menyimak pelajaran. \"\n"
          ]
        }
      ]
    },
    {
      "cell_type": "code",
      "source": [
        "print('Bu Shinta berkata, \\\"Semua harus menyimak pelajaran. \\\"')"
      ],
      "metadata": {
        "colab": {
          "base_uri": "https://localhost:8080/"
        },
        "id": "aC032pehCxr6",
        "outputId": "b17e20e2-5e3f-426d-a5fc-554cb65c1428"
      },
      "execution_count": null,
      "outputs": [
        {
          "output_type": "stream",
          "name": "stdout",
          "text": [
            "Bu Shinta berkata, \"Semua harus menyimak pelajaran. \"\n"
          ]
        }
      ]
    },
    {
      "cell_type": "code",
      "source": [
        "print(\"Lokasi file video karnaval ada di D:\\\\Karnaval 2025\\\\mp4\")"
      ],
      "metadata": {
        "colab": {
          "base_uri": "https://localhost:8080/"
        },
        "id": "EOK1zRc_C9zM",
        "outputId": "173686e2-d9aa-44f4-dcc4-b084cfffb01b"
      },
      "execution_count": null,
      "outputs": [
        {
          "output_type": "stream",
          "name": "stdout",
          "text": [
            "Lokasi file video karnaval ada di D:\\Karnaval 2025\\mp4\n"
          ]
        }
      ]
    },
    {
      "cell_type": "markdown",
      "source": [
        "#Parameter fungsi print"
      ],
      "metadata": {
        "id": "-y7E6wnmGr5l"
      }
    },
    {
      "cell_type": "code",
      "source": [
        "Tahun = 2009\n",
        "Bulan = \"Agustus\"\n",
        "Tanggal = 17\n",
        "\n",
        "print(Tanggal, end=\" \")\n",
        "print(Bulan, end=\" \")\n",
        "print(Tahun)"
      ],
      "metadata": {
        "colab": {
          "base_uri": "https://localhost:8080/"
        },
        "id": "nbEb0_ewGwv5",
        "outputId": "e682d255-d72b-4912-bee7-d3e30a445795"
      },
      "execution_count": null,
      "outputs": [
        {
          "output_type": "stream",
          "name": "stdout",
          "text": [
            "17 Agustus 2009\n"
          ]
        }
      ]
    },
    {
      "cell_type": "code",
      "source": [
        "Tahun = 2009\n",
        "Bulan = \"Agustus\"\n",
        "Tanggal = 17\n",
        "\n",
        "print(Tanggal, Bulan, Tahun, sep=\" \")"
      ],
      "metadata": {
        "colab": {
          "base_uri": "https://localhost:8080/"
        },
        "id": "ybPprK9wHfeO",
        "outputId": "97676960-897e-4edb-8b5b-14bc543d114e"
      },
      "execution_count": null,
      "outputs": [
        {
          "output_type": "stream",
          "name": "stdout",
          "text": [
            "17 Agustus 2009\n"
          ]
        }
      ]
    },
    {
      "cell_type": "markdown",
      "source": [],
      "metadata": {
        "id": "2CitvXWRK9pV"
      }
    },
    {
      "cell_type": "markdown",
      "source": [
        "Latihan:\n",
        "\n",
        "Tanggal-Bulan-Tahun"
      ],
      "metadata": {
        "id": "ppIx4t7qIIhZ"
      }
    },
    {
      "cell_type": "code",
      "source": [
        "Tahun = 2009\n",
        "Bulan = \"Agustus\"\n",
        "Tanggal = 17\n",
        "\n",
        "print(Tanggal, Bulan, Tahun, sep=\"-\")"
      ],
      "metadata": {
        "colab": {
          "base_uri": "https://localhost:8080/"
        },
        "id": "uLasWgDzJabF",
        "outputId": "f69a0a1e-d016-4150-8173-1b75a3c8e07b"
      },
      "execution_count": null,
      "outputs": [
        {
          "output_type": "stream",
          "name": "stdout",
          "text": [
            "17-Agustus-2009\n"
          ]
        }
      ]
    },
    {
      "cell_type": "code",
      "source": [
        "Nama_depan = \"Naima\"\n",
        "Nama_belakang = \"Hanum\"\n",
        "\n",
        "print(Nama_depan, Nama_belakang)"
      ],
      "metadata": {
        "colab": {
          "base_uri": "https://localhost:8080/"
        },
        "id": "KXyxZEUIISJo",
        "outputId": "0fd9cbba-6f32-4e59-d68d-7c6f114b5081"
      },
      "execution_count": null,
      "outputs": [
        {
          "output_type": "stream",
          "name": "stdout",
          "text": [
            "Naima Hanum\n"
          ]
        }
      ]
    },
    {
      "cell_type": "code",
      "source": [
        "Nama_depan = \"Naima\"\n",
        "Nama_belakang = \"Hanum\"\n",
        "print(Nama_depan, end=\" \")\n",
        "print(Nama_belakang)"
      ],
      "metadata": {
        "colab": {
          "base_uri": "https://localhost:8080/"
        },
        "id": "XrYvemv-Ii8g",
        "outputId": "9029126b-18a2-46d4-a385-c74f87ae0793"
      },
      "execution_count": null,
      "outputs": [
        {
          "output_type": "stream",
          "name": "stdout",
          "text": [
            "Naima Hanum\n"
          ]
        }
      ]
    },
    {
      "cell_type": "code",
      "source": [
        "print('Bu Shinta berkata, \"berikut adalah judul pelajaran hari senin selasa rabu silahkan disimpan di laptop masing-masing di folder local disk D:\\\\Jadwal Pelajaran\\\\Kelas XI Semester I \"')\n",
        "\n",
        "print(\"\\nJadwal Pelajaran Mingguan\")\n",
        "print(\"=====================================================\")\n",
        "print(\"Jam\\tSenin\\t\\tSelasa\\t\\tRabu\")\n",
        "print(\"Jam 1\\tMatematika\\tBahasa\\t\\tInformatika\")\n",
        "print(\"Jam 2\\tBahasa ing.\\tSejarah\\t\\tMa'rifatullah\")\n",
        "print(\"Jam 3\\tInformatika\\tOlahraga\\tBiologi\")"
      ],
      "metadata": {
        "colab": {
          "base_uri": "https://localhost:8080/"
        },
        "id": "QwRyqAtoLti6",
        "outputId": "159c6007-5f23-4c98-e503-42ced38e34a7"
      },
      "execution_count": null,
      "outputs": [
        {
          "output_type": "stream",
          "name": "stdout",
          "text": [
            "Bu Shinta berkata, \"berikut adalah judul pelajaran hari senin selasa rabu silahkan disimpan di laptop masing-masing di folder local disk D:\\Jadwal Pelajaran\\Kelas XI Semester I \"\n",
            "\n",
            "Jadwal Pelajaran Mingguan\n",
            "=====================================================\n",
            "Jam\tSenin\t\tSelasa\t\tRabu\n",
            "Jam 1\tMatematika\tBahasa\t\tInformatika\n",
            "Jam 2\tBahasa ing.\tSejarah\t\tMa'rifatullah\n",
            "Jam 3\tInformatika\tOlahraga\tBiologi\n"
          ]
        }
      ]
    },
    {
      "cell_type": "code",
      "source": [
        "nama_siswa_1 = \"Favian\"\n",
        "nama_siswa_2 = \"Naufal\"\n",
        "nama_siswa_3 = \"Humaira\"\n",
        "\n",
        "\n",
        "print(nama_siswa_1, nama_siswa_2, nama_siswa_3, sep=\"~\")"
      ],
      "metadata": {
        "colab": {
          "base_uri": "https://localhost:8080/"
        },
        "id": "GTO5mZrzE98D",
        "outputId": "2509ae09-712b-408d-89a9-6c3cb52c1f71"
      },
      "execution_count": null,
      "outputs": [
        {
          "output_type": "stream",
          "name": "stdout",
          "text": [
            "Favian~Naufal~Humaira\n"
          ]
        }
      ]
    },
    {
      "cell_type": "code",
      "source": [
        "print(nama_siswa_2, end=\"~\")\n",
        "print(nama_siswa_1)\n",
        "\n",
        "\n",
        "print(nama_siswa_3, end=\"~\")\n",
        "print(nama_siswa_1)"
      ],
      "metadata": {
        "colab": {
          "base_uri": "https://localhost:8080/"
        },
        "id": "NYCE-1y1GSiW",
        "outputId": "0af6b24a-7d82-4cac-b4ea-c932492ad632"
      },
      "execution_count": null,
      "outputs": [
        {
          "output_type": "stream",
          "name": "stdout",
          "text": [
            "Naufal~Favian\n",
            "Humaira~Favian\n"
          ]
        }
      ]
    }
  ]
}